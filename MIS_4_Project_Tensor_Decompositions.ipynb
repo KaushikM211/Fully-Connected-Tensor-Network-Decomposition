{
  "nbformat": 4,
  "nbformat_minor": 0,
  "metadata": {
    "colab": {
      "name": "MIS-4|Project|Tensor Decompositions.ipynb",
      "provenance": [],
      "collapsed_sections": []
    },
    "kernelspec": {
      "name": "python3",
      "display_name": "Python 3"
    },
    "language_info": {
      "name": "python"
    }
  },
  "cells": [
    {
      "cell_type": "code",
      "metadata": {
        "id": "kXVywGxXsYsT"
      },
      "source": [
        "# Importing the required packages\n",
        "import numpy as np\n",
        "import tensorly as tl\n",
        "from tensorly.decomposition import matrix_product_state\n",
        "from tensorly import tt_to_tensor"
      ],
      "execution_count": 1,
      "outputs": []
    },
    {
      "cell_type": "code",
      "metadata": {
        "id": "zNshPS6qysxK"
      },
      "source": [
        "# Creating a tensor from a 12 x 12 matrix\n",
        "tensor = tl.tensor([[ 0.,  0.,  0.,  0.,  0.,  0.,  0.,  0.,  0.,  0.,  0.,  0.],\n",
        "                        [ 0.,  0.,  0.,  0.,  1.,  1.,  1.,  1.,  0.,  0.,  0.,  0.],\n",
        "                        [ 0.,  0.,  0.,  0.,  1.,  1.,  1.,  1.,  0.,  0.,  0.,  0.],\n",
        "                        [ 0.,  0.,  0.,  0.,  1.,  1.,  1.,  1.,  0.,  0.,  0.,  0.],\n",
        "                        [ 0.,  1.,  1.,  1.,  1.,  1.,  1.,  1.,  1.,  1.,  1.,  0.],\n",
        "                        [ 0.,  1.,  1.,  1.,  1.,  1.,  1.,  1.,  1.,  1.,  1.,  0.],\n",
        "                        [ 0.,  1.,  1.,  1.,  1.,  1.,  1.,  1.,  1.,  1.,  1.,  0.],\n",
        "                        [ 0.,  1.,  1.,  1.,  1.,  1.,  1.,  1.,  1.,  1.,  1.,  0.],\n",
        "                        [ 0.,  0.,  0.,  0.,  1.,  1.,  1.,  1.,  0.,  0.,  0.,  0.],\n",
        "                        [ 0.,  0.,  0.,  0.,  1.,  1.,  1.,  1.,  0.,  0.,  0.,  0.],\n",
        "                        [ 0.,  0.,  0.,  0.,  1.,  1.,  1.,  1.,  0.,  0.,  0.,  0.],\n",
        "                        [ 0.,  0.,  0.,  0.,  0.,  0.,  0.,  0.,  0.,  0.,  0.,  0.]])"
      ],
      "execution_count": 2,
      "outputs": []
    },
    {
      "cell_type": "code",
      "metadata": {
        "id": "W7Uw1F4R0y-F"
      },
      "source": [
        "# Obtaining the factors corresponding to Tensor Train Decomposition where we create 2 cores\n",
        "factors = matrix_product_state(tensor, rank=[1,2,1])"
      ],
      "execution_count": 3,
      "outputs": []
    },
    {
      "cell_type": "code",
      "metadata": {
        "colab": {
          "base_uri": "https://localhost:8080/"
        },
        "id": "vvzY5fq60-l7",
        "outputId": "8a2cb86d-83e4-411a-b1de-63b7ec39b139"
      },
      "source": [
        "# Printing the factors of decomposed tensor\n",
        "len(factors)"
      ],
      "execution_count": 4,
      "outputs": [
        {
          "output_type": "execute_result",
          "data": {
            "text/plain": [
              "2"
            ]
          },
          "metadata": {
            "tags": []
          },
          "execution_count": 4
        }
      ]
    },
    {
      "cell_type": "code",
      "metadata": {
        "colab": {
          "base_uri": "https://localhost:8080/"
        },
        "id": "oqcfzir60_dk",
        "outputId": "e0f18891-3968-4507-ffdf-06d78d6eed24"
      },
      "source": [
        " #Printing the core dimensions\n",
        " [f.shape for f in factors]"
      ],
      "execution_count": 5,
      "outputs": [
        {
          "output_type": "execute_result",
          "data": {
            "text/plain": [
              "[(1, 12, 2), (2, 12, 1)]"
            ]
          },
          "metadata": {
            "tags": []
          },
          "execution_count": 5
        }
      ]
    },
    {
      "cell_type": "code",
      "metadata": {
        "colab": {
          "base_uri": "https://localhost:8080/"
        },
        "id": "VHAN0WfJ0_gH",
        "outputId": "4eded6fa-8580-4978-9d51-865fcff82762"
      },
      "source": [
        "#Retrieving our tensor from the decomposed version\n",
        "print(np.round(tt_to_tensor(factors), decimals=10))"
      ],
      "execution_count": 6,
      "outputs": [
        {
          "output_type": "stream",
          "text": [
            "[[ 0.  0.  0.  0.  0.  0.  0.  0.  0.  0.  0.  0.]\n",
            " [ 0.  0. -0.  0.  1.  1.  1.  1. -0.  0. -0.  0.]\n",
            " [ 0.  0. -0.  0.  1.  1.  1.  1. -0.  0. -0.  0.]\n",
            " [ 0.  0. -0.  0.  1.  1.  1.  1. -0.  0. -0.  0.]\n",
            " [ 0.  1.  1.  1.  1.  1.  1.  1.  1.  1.  1.  0.]\n",
            " [ 0.  1.  1.  1.  1.  1.  1.  1.  1.  1.  1.  0.]\n",
            " [ 0.  1.  1.  1.  1.  1.  1.  1.  1.  1.  1.  0.]\n",
            " [ 0.  1.  1.  1.  1.  1.  1.  1.  1.  1.  1.  0.]\n",
            " [ 0.  0. -0.  0.  1.  1.  1.  1. -0.  0. -0.  0.]\n",
            " [ 0.  0. -0.  0.  1.  1.  1.  1. -0.  0. -0.  0.]\n",
            " [ 0.  0. -0.  0.  1.  1.  1.  1. -0.  0. -0.  0.]\n",
            " [ 0.  0.  0.  0.  0.  0.  0.  0.  0.  0.  0.  0.]]\n"
          ],
          "name": "stdout"
        }
      ]
    },
    {
      "cell_type": "code",
      "metadata": {
        "id": "0RltbWXBFlTt"
      },
      "source": [
        ""
      ],
      "execution_count": 6,
      "outputs": []
    }
  ]
}